{
  "cells": [
    {
      "cell_type": "code",
      "execution_count": 99,
      "metadata": {
        "colab": {
          "base_uri": "https://localhost:8080/"
        },
        "id": "Q2vsbZ4jFEkG",
        "outputId": "42752f75-e2af-488b-cf89-3352ef742905"
      },
      "outputs": [
        {
          "name": "stdout",
          "output_type": "stream",
          "text": [
            "Requirement already satisfied: langchain in /usr/local/lib/python3.12/dist-packages (0.3.27)\n",
            "Requirement already satisfied: langchain_google_genai in /usr/local/lib/python3.12/dist-packages (2.1.12)\n",
            "Requirement already satisfied: langchain_community in /usr/local/lib/python3.12/dist-packages (0.3.31)\n",
            "Requirement already satisfied: langgraph in /usr/local/lib/python3.12/dist-packages (0.6.10)\n",
            "Requirement already satisfied: langchain-core<1.0.0,>=0.3.72 in /usr/local/lib/python3.12/dist-packages (from langchain) (0.3.78)\n",
            "Requirement already satisfied: langchain-text-splitters<1.0.0,>=0.3.9 in /usr/local/lib/python3.12/dist-packages (from langchain) (0.3.11)\n",
            "Requirement already satisfied: langsmith>=0.1.17 in /usr/local/lib/python3.12/dist-packages (from langchain) (0.4.33)\n",
            "Requirement already satisfied: pydantic<3.0.0,>=2.7.4 in /usr/local/lib/python3.12/dist-packages (from langchain) (2.11.10)\n",
            "Requirement already satisfied: SQLAlchemy<3,>=1.4 in /usr/local/lib/python3.12/dist-packages (from langchain) (2.0.43)\n",
            "Requirement already satisfied: requests<3,>=2 in /usr/local/lib/python3.12/dist-packages (from langchain) (2.32.5)\n",
            "Requirement already satisfied: PyYAML>=5.3 in /usr/local/lib/python3.12/dist-packages (from langchain) (6.0.3)\n",
            "Requirement already satisfied: google-ai-generativelanguage<1,>=0.7 in /usr/local/lib/python3.12/dist-packages (from langchain_google_genai) (0.7.0)\n",
            "Requirement already satisfied: filetype<2,>=1.2 in /usr/local/lib/python3.12/dist-packages (from langchain_google_genai) (1.2.0)\n",
            "Requirement already satisfied: aiohttp<4.0.0,>=3.8.3 in /usr/local/lib/python3.12/dist-packages (from langchain_community) (3.13.0)\n",
            "Requirement already satisfied: tenacity!=8.4.0,<10.0.0,>=8.1.0 in /usr/local/lib/python3.12/dist-packages (from langchain_community) (8.5.0)\n",
            "Requirement already satisfied: dataclasses-json<0.7.0,>=0.6.7 in /usr/local/lib/python3.12/dist-packages (from langchain_community) (0.6.7)\n",
            "Requirement already satisfied: pydantic-settings<3.0.0,>=2.10.1 in /usr/local/lib/python3.12/dist-packages (from langchain_community) (2.11.0)\n",
            "Requirement already satisfied: httpx-sse<1.0.0,>=0.4.0 in /usr/local/lib/python3.12/dist-packages (from langchain_community) (0.4.2)\n",
            "Requirement already satisfied: numpy>=1.26.2 in /usr/local/lib/python3.12/dist-packages (from langchain_community) (2.0.2)\n",
            "Requirement already satisfied: langgraph-checkpoint<3.0.0,>=2.1.0 in /usr/local/lib/python3.12/dist-packages (from langgraph) (2.1.2)\n",
            "Requirement already satisfied: langgraph-prebuilt<0.7.0,>=0.6.0 in /usr/local/lib/python3.12/dist-packages (from langgraph) (0.6.4)\n",
            "Requirement already satisfied: langgraph-sdk<0.3.0,>=0.2.2 in /usr/local/lib/python3.12/dist-packages (from langgraph) (0.2.9)\n",
            "Requirement already satisfied: xxhash>=3.5.0 in /usr/local/lib/python3.12/dist-packages (from langgraph) (3.6.0)\n",
            "Requirement already satisfied: aiohappyeyeballs>=2.5.0 in /usr/local/lib/python3.12/dist-packages (from aiohttp<4.0.0,>=3.8.3->langchain_community) (2.6.1)\n",
            "Requirement already satisfied: aiosignal>=1.4.0 in /usr/local/lib/python3.12/dist-packages (from aiohttp<4.0.0,>=3.8.3->langchain_community) (1.4.0)\n",
            "Requirement already satisfied: attrs>=17.3.0 in /usr/local/lib/python3.12/dist-packages (from aiohttp<4.0.0,>=3.8.3->langchain_community) (25.4.0)\n",
            "Requirement already satisfied: frozenlist>=1.1.1 in /usr/local/lib/python3.12/dist-packages (from aiohttp<4.0.0,>=3.8.3->langchain_community) (1.8.0)\n",
            "Requirement already satisfied: multidict<7.0,>=4.5 in /usr/local/lib/python3.12/dist-packages (from aiohttp<4.0.0,>=3.8.3->langchain_community) (6.7.0)\n",
            "Requirement already satisfied: propcache>=0.2.0 in /usr/local/lib/python3.12/dist-packages (from aiohttp<4.0.0,>=3.8.3->langchain_community) (0.3.2)\n",
            "Requirement already satisfied: yarl<2.0,>=1.17.0 in /usr/local/lib/python3.12/dist-packages (from aiohttp<4.0.0,>=3.8.3->langchain_community) (1.22.0)\n",
            "Requirement already satisfied: marshmallow<4.0.0,>=3.18.0 in /usr/local/lib/python3.12/dist-packages (from dataclasses-json<0.7.0,>=0.6.7->langchain_community) (3.26.1)\n",
            "Requirement already satisfied: typing-inspect<1,>=0.4.0 in /usr/local/lib/python3.12/dist-packages (from dataclasses-json<0.7.0,>=0.6.7->langchain_community) (0.9.0)\n",
            "Requirement already satisfied: google-api-core!=2.0.*,!=2.1.*,!=2.10.*,!=2.2.*,!=2.3.*,!=2.4.*,!=2.5.*,!=2.6.*,!=2.7.*,!=2.8.*,!=2.9.*,<3.0.0,>=1.34.1 in /usr/local/lib/python3.12/dist-packages (from google-api-core[grpc]!=2.0.*,!=2.1.*,!=2.10.*,!=2.2.*,!=2.3.*,!=2.4.*,!=2.5.*,!=2.6.*,!=2.7.*,!=2.8.*,!=2.9.*,<3.0.0,>=1.34.1->google-ai-generativelanguage<1,>=0.7->langchain_google_genai) (2.25.2)\n",
            "Requirement already satisfied: google-auth!=2.24.0,!=2.25.0,<3.0.0,>=2.14.1 in /usr/local/lib/python3.12/dist-packages (from google-ai-generativelanguage<1,>=0.7->langchain_google_genai) (2.38.0)\n",
            "Requirement already satisfied: proto-plus<2.0.0,>=1.22.3 in /usr/local/lib/python3.12/dist-packages (from google-ai-generativelanguage<1,>=0.7->langchain_google_genai) (1.26.1)\n",
            "Requirement already satisfied: protobuf!=4.21.0,!=4.21.1,!=4.21.2,!=4.21.3,!=4.21.4,!=4.21.5,<7.0.0,>=3.20.2 in /usr/local/lib/python3.12/dist-packages (from google-ai-generativelanguage<1,>=0.7->langchain_google_genai) (5.29.5)\n",
            "Requirement already satisfied: jsonpatch<2.0.0,>=1.33.0 in /usr/local/lib/python3.12/dist-packages (from langchain-core<1.0.0,>=0.3.72->langchain) (1.33)\n",
            "Requirement already satisfied: typing-extensions<5.0.0,>=4.7.0 in /usr/local/lib/python3.12/dist-packages (from langchain-core<1.0.0,>=0.3.72->langchain) (4.15.0)\n",
            "Requirement already satisfied: packaging<26.0.0,>=23.2.0 in /usr/local/lib/python3.12/dist-packages (from langchain-core<1.0.0,>=0.3.72->langchain) (25.0)\n",
            "Requirement already satisfied: ormsgpack>=1.10.0 in /usr/local/lib/python3.12/dist-packages (from langgraph-checkpoint<3.0.0,>=2.1.0->langgraph) (1.11.0)\n",
            "Requirement already satisfied: httpx>=0.25.2 in /usr/local/lib/python3.12/dist-packages (from langgraph-sdk<0.3.0,>=0.2.2->langgraph) (0.28.1)\n",
            "Requirement already satisfied: orjson>=3.10.1 in /usr/local/lib/python3.12/dist-packages (from langgraph-sdk<0.3.0,>=0.2.2->langgraph) (3.11.3)\n",
            "Requirement already satisfied: requests-toolbelt>=1.0.0 in /usr/local/lib/python3.12/dist-packages (from langsmith>=0.1.17->langchain) (1.0.0)\n",
            "Requirement already satisfied: zstandard>=0.23.0 in /usr/local/lib/python3.12/dist-packages (from langsmith>=0.1.17->langchain) (0.25.0)\n",
            "Requirement already satisfied: annotated-types>=0.6.0 in /usr/local/lib/python3.12/dist-packages (from pydantic<3.0.0,>=2.7.4->langchain) (0.7.0)\n",
            "Requirement already satisfied: pydantic-core==2.33.2 in /usr/local/lib/python3.12/dist-packages (from pydantic<3.0.0,>=2.7.4->langchain) (2.33.2)\n",
            "Requirement already satisfied: typing-inspection>=0.4.0 in /usr/local/lib/python3.12/dist-packages (from pydantic<3.0.0,>=2.7.4->langchain) (0.4.2)\n",
            "Requirement already satisfied: python-dotenv>=0.21.0 in /usr/local/lib/python3.12/dist-packages (from pydantic-settings<3.0.0,>=2.10.1->langchain_community) (1.1.1)\n",
            "Requirement already satisfied: charset_normalizer<4,>=2 in /usr/local/lib/python3.12/dist-packages (from requests<3,>=2->langchain) (3.4.3)\n",
            "Requirement already satisfied: idna<4,>=2.5 in /usr/local/lib/python3.12/dist-packages (from requests<3,>=2->langchain) (3.10)\n",
            "Requirement already satisfied: urllib3<3,>=1.21.1 in /usr/local/lib/python3.12/dist-packages (from requests<3,>=2->langchain) (2.5.0)\n",
            "Requirement already satisfied: certifi>=2017.4.17 in /usr/local/lib/python3.12/dist-packages (from requests<3,>=2->langchain) (2025.10.5)\n",
            "Requirement already satisfied: greenlet>=1 in /usr/local/lib/python3.12/dist-packages (from SQLAlchemy<3,>=1.4->langchain) (3.2.4)\n",
            "Requirement already satisfied: googleapis-common-protos<2.0.0,>=1.56.2 in /usr/local/lib/python3.12/dist-packages (from google-api-core!=2.0.*,!=2.1.*,!=2.10.*,!=2.2.*,!=2.3.*,!=2.4.*,!=2.5.*,!=2.6.*,!=2.7.*,!=2.8.*,!=2.9.*,<3.0.0,>=1.34.1->google-api-core[grpc]!=2.0.*,!=2.1.*,!=2.10.*,!=2.2.*,!=2.3.*,!=2.4.*,!=2.5.*,!=2.6.*,!=2.7.*,!=2.8.*,!=2.9.*,<3.0.0,>=1.34.1->google-ai-generativelanguage<1,>=0.7->langchain_google_genai) (1.70.0)\n",
            "Requirement already satisfied: grpcio<2.0.0,>=1.33.2 in /usr/local/lib/python3.12/dist-packages (from google-api-core[grpc]!=2.0.*,!=2.1.*,!=2.10.*,!=2.2.*,!=2.3.*,!=2.4.*,!=2.5.*,!=2.6.*,!=2.7.*,!=2.8.*,!=2.9.*,<3.0.0,>=1.34.1->google-ai-generativelanguage<1,>=0.7->langchain_google_genai) (1.75.1)\n",
            "Requirement already satisfied: grpcio-status<2.0.0,>=1.33.2 in /usr/local/lib/python3.12/dist-packages (from google-api-core[grpc]!=2.0.*,!=2.1.*,!=2.10.*,!=2.2.*,!=2.3.*,!=2.4.*,!=2.5.*,!=2.6.*,!=2.7.*,!=2.8.*,!=2.9.*,<3.0.0,>=1.34.1->google-ai-generativelanguage<1,>=0.7->langchain_google_genai) (1.71.2)\n",
            "Requirement already satisfied: cachetools<6.0,>=2.0.0 in /usr/local/lib/python3.12/dist-packages (from google-auth!=2.24.0,!=2.25.0,<3.0.0,>=2.14.1->google-ai-generativelanguage<1,>=0.7->langchain_google_genai) (5.5.2)\n",
            "Requirement already satisfied: pyasn1-modules>=0.2.1 in /usr/local/lib/python3.12/dist-packages (from google-auth!=2.24.0,!=2.25.0,<3.0.0,>=2.14.1->google-ai-generativelanguage<1,>=0.7->langchain_google_genai) (0.4.2)\n",
            "Requirement already satisfied: rsa<5,>=3.1.4 in /usr/local/lib/python3.12/dist-packages (from google-auth!=2.24.0,!=2.25.0,<3.0.0,>=2.14.1->google-ai-generativelanguage<1,>=0.7->langchain_google_genai) (4.9.1)\n",
            "Requirement already satisfied: anyio in /usr/local/lib/python3.12/dist-packages (from httpx>=0.25.2->langgraph-sdk<0.3.0,>=0.2.2->langgraph) (4.11.0)\n",
            "Requirement already satisfied: httpcore==1.* in /usr/local/lib/python3.12/dist-packages (from httpx>=0.25.2->langgraph-sdk<0.3.0,>=0.2.2->langgraph) (1.0.9)\n",
            "Requirement already satisfied: h11>=0.16 in /usr/local/lib/python3.12/dist-packages (from httpcore==1.*->httpx>=0.25.2->langgraph-sdk<0.3.0,>=0.2.2->langgraph) (0.16.0)\n",
            "Requirement already satisfied: jsonpointer>=1.9 in /usr/local/lib/python3.12/dist-packages (from jsonpatch<2.0.0,>=1.33.0->langchain-core<1.0.0,>=0.3.72->langchain) (3.0.0)\n",
            "Requirement already satisfied: mypy-extensions>=0.3.0 in /usr/local/lib/python3.12/dist-packages (from typing-inspect<1,>=0.4.0->dataclasses-json<0.7.0,>=0.6.7->langchain_community) (1.1.0)\n",
            "Requirement already satisfied: pyasn1<0.7.0,>=0.6.1 in /usr/local/lib/python3.12/dist-packages (from pyasn1-modules>=0.2.1->google-auth!=2.24.0,!=2.25.0,<3.0.0,>=2.14.1->google-ai-generativelanguage<1,>=0.7->langchain_google_genai) (0.6.1)\n",
            "Requirement already satisfied: sniffio>=1.1 in /usr/local/lib/python3.12/dist-packages (from anyio->httpx>=0.25.2->langgraph-sdk<0.3.0,>=0.2.2->langgraph) (1.3.1)\n"
          ]
        }
      ],
      "source": [
        "!pip install langchain langchain_google_genai langchain_community langgraph"
      ]
    },
    {
      "cell_type": "code",
      "execution_count": 100,
      "metadata": {
        "id": "2WGpKGKvGHpI"
      },
      "outputs": [],
      "source": [
        "from google.colab import userdata\n",
        "Google_api_key=userdata.get('GEMINI-API-KEY')"
      ]
    },
    {
      "cell_type": "code",
      "execution_count": 101,
      "metadata": {
        "id": "xSWqRzcrFaKD"
      },
      "outputs": [],
      "source": [
        "from langchain_google_genai import ChatGoogleGenerativeAI\n",
        "from langchain_community.tools import TavilySearchResults"
      ]
    },
    {
      "cell_type": "code",
      "execution_count": 102,
      "metadata": {
        "colab": {
          "base_uri": "https://localhost:8080/",
          "height": 35
        },
        "id": "UX8zBTM2FzV_",
        "outputId": "667bbe8f-cc80-4451-f6b8-2140535af5f1"
      },
      "outputs": [
        {
          "data": {
            "application/vnd.google.colaboratory.intrinsic+json": {
              "type": "string"
            },
            "text/plain": [
              "\"I'm doing well, thank you for asking!\\n\\nHow about you?\""
            ]
          },
          "execution_count": 102,
          "metadata": {},
          "output_type": "execute_result"
        }
      ],
      "source": [
        "Model = ChatGoogleGenerativeAI(model='gemini-2.5-flash',api_key=Google_api_key)\n",
        "Model.invoke(\"Hey how are you?\").content"
      ]
    },
    {
      "cell_type": "code",
      "execution_count": 103,
      "metadata": {
        "colab": {
          "base_uri": "https://localhost:8080/"
        },
        "id": "alXgDww6GTNQ",
        "outputId": "20d34dc8-b4cf-4c71-b0e1-8b64b88444ae"
      },
      "outputs": [
        {
          "name": "stdout",
          "output_type": "stream",
          "text": [
            "Requirement already satisfied: langchain-twitter in /usr/local/lib/python3.12/dist-packages (0.1.1)\n",
            "Requirement already satisfied: tweepy in /usr/local/lib/python3.12/dist-packages (4.16.0)\n",
            "Requirement already satisfied: oauthlib<4,>=3.2.0 in /usr/local/lib/python3.12/dist-packages (from tweepy) (3.3.1)\n",
            "Requirement already satisfied: requests<3,>=2.27.0 in /usr/local/lib/python3.12/dist-packages (from tweepy) (2.32.5)\n",
            "Requirement already satisfied: requests-oauthlib<3,>=1.2.0 in /usr/local/lib/python3.12/dist-packages (from tweepy) (2.0.0)\n",
            "Requirement already satisfied: charset_normalizer<4,>=2 in /usr/local/lib/python3.12/dist-packages (from requests<3,>=2.27.0->tweepy) (3.4.3)\n",
            "Requirement already satisfied: idna<4,>=2.5 in /usr/local/lib/python3.12/dist-packages (from requests<3,>=2.27.0->tweepy) (3.10)\n",
            "Requirement already satisfied: urllib3<3,>=1.21.1 in /usr/local/lib/python3.12/dist-packages (from requests<3,>=2.27.0->tweepy) (2.5.0)\n",
            "Requirement already satisfied: certifi>=2017.4.17 in /usr/local/lib/python3.12/dist-packages (from requests<3,>=2.27.0->tweepy) (2025.10.5)\n"
          ]
        }
      ],
      "source": [
        "pip install langchain-twitter tweepy"
      ]
    },
    {
      "cell_type": "code",
      "execution_count": 105,
      "metadata": {
        "id": "rh3_d_wZHXwv"
      },
      "outputs": [],
      "source": [
        "# from tweepy import Client\n",
        "# from langchain_core.tools import tool\n",
        "# import os\n",
        "\n",
        "\n",
        "# @tool\n",
        "# def post_tweet(tweet: str) -> str:\n",
        "#     \"\"\"\n",
        "#     Post a tweet with the given text.\n",
        "#     Returns the tweet ID or a URL.\n",
        "#     \"\"\"\n",
        "#     client = Client(\n",
        "#         bearer_token=twitter_bearer_token,\n",
        "#         consumer_key=twitter_api_key,\n",
        "#         consumer_secret=twitter_secret_key,\n",
        "#         access_token=twitter_acess_token,\n",
        "#         access_token_secret=twitter_acess_token_secret,\n",
        "#     )\n",
        "\n",
        "#     try:\n",
        "#         response = client.create_tweet(text=tweet)\n",
        "#         tweet_id = response.data[\"id\"]\n",
        "#         return f\"Tweet posted successfully:- URL: https://twitter.com/user/status/{tweet_id}\"\n",
        "#     except Exception as e:\n",
        "#         return f\"Error posting tweet: {str(e)}\"\n",
        "\n",
        "# #test it\n",
        "# post_tweet.invoke(\"Hello world! This tweet was posted by my LangChain agent.\")"
      ]
    },
    {
      "cell_type": "code",
      "execution_count": 106,
      "metadata": {
        "id": "SUvAa4tcIIUD"
      },
      "outputs": [],
      "source": [
        "# @tool\n",
        "# def delete_tweet(tweet_id: str) -> str:\n",
        "#     \"\"\"\n",
        "#     Delete a tweet with the given ID.\n",
        "#     Returns a success message or an error message.\n",
        "#     \"\"\"\n",
        "#     client = Client(\n",
        "#         bearer_token=twitter_bearer_token,\n",
        "#         consumer_key=twitter_api_key,\n",
        "#         consumer_secret=twitter_secret_key,\n",
        "#         access_token=twitter_acess_token,\n",
        "#         access_token_secret=twitter_acess_token_secret,\n",
        "#     )\n",
        "#     try:\n",
        "#       deleted_tweet = client.delete_tweet(id=tweet_id)\n",
        "#       if deleted_tweet.data.get(\"deleted\",False):\n",
        "#         return f\"Tweet deleted successfully:- URL: https://twitter.com/user/status/{tweet_id}\"\n",
        "#       else:\n",
        "#         return f\"Failed to delete tweet {tweet_id}. Response: {deleted_tweet.data}\"\n",
        "#     except Exception as e:\n",
        "#         return f\"Error deleting tweet: {str(e)}\"\n",
        "\n",
        "# delete_tweet.invoke('1978113099698995651')"
      ]
    },
    {
      "cell_type": "code",
      "execution_count": 107,
      "metadata": {
        "id": "3DbTaDWRPxL3"
      },
      "outputs": [],
      "source": [
        "# @tool\n",
        "# def update_tweet_node(tweet_id: str, new_text: str):\n",
        "#     \"\"\"\n",
        "#     Simulates updating a tweet: shows old tweet, deletes, posts new text.\n",
        "#     \"\"\"\n",
        "#     client = Client(\n",
        "#         bearer_token=twitter_bearer_token,\n",
        "#         consumer_key=twitter_api_key,\n",
        "#         consumer_secret=twitter_secret_key,\n",
        "#         access_token=twitter_acess_token,\n",
        "#         access_token_secret=twitter_acess_token_secret,\n",
        "#     )\n",
        "#     try:\n",
        "#       old_tweet = client.get_tweet(tweet_id)\n",
        "#       old_text = old_tweet.data.get(\"text\")\n",
        "#       print(old_text)\n",
        "#       delete_resp = client.delete_tweet(tweet_id)\n",
        "#       if not delete_resp.data.get(\"deleted\", False):\n",
        "#           return f\"Failed to delete old tweet {tweet_id}\"\n",
        "#       new_resp = client.create_tweet(text=new_text)\n",
        "#       new_id = new_resp.data[\"id\"]\n",
        "#       return f\"Tweet updated successfully! New tweet ID: {new_id}\"\n",
        "#     except Exception as e:\n",
        "#       return f\"Error updating tweet: {str(e)}\"\n",
        "\n",
        "# #testing\n",
        "# update_tweet_node.invoke({\n",
        "#     \"tweet_id\": \"1978122728747282559\",\n",
        "#     \"new_text\": \"hello im waris and doing this by ai automation\"\n",
        "# })"
      ]
    },
    {
      "cell_type": "code",
      "execution_count": 108,
      "metadata": {
        "id": "KNECdCpbaw__"
      },
      "outputs": [],
      "source": [
        "from typing_extensions import TypedDict\n",
        "from langgraph.graph.message import add_messages\n",
        "from langchain_core.messages import BaseMessage\n",
        "from typing import Annotated,Literal,Dict,List\n",
        "\n",
        "class TweetState(TypedDict):\n",
        "    messages: Annotated[List[BaseMessage], add_messages]\n",
        "    topic: str\n",
        "    call: Literal['chat_side', 'twitter_side']\n",
        "    genrated_tweet: str\n",
        "    posted_tweet: Dict[str, str]\n",
        "    deleted_tweet: List[str]\n",
        "    updated_tweet: Dict[str, str]\n",
        "    node_call: Literal['posted_tweet', 'deleted_tweet', 'updated_tweet']\n",
        "    tweet_id: str"
      ]
    },
    {
      "cell_type": "code",
      "execution_count": 109,
      "metadata": {
        "id": "OaTicOxljeBK"
      },
      "outputs": [],
      "source": [
        "from pydantic import BaseModel,Field\n",
        "\n",
        "class chat_decider(BaseModel):\n",
        "  call : Literal['chat_side','twitter_side'] = Field(description=\"based on user input you will decide this is genral chat or this is twitter_side related chat\")\n",
        "\n",
        "\n",
        "class TweetDecider(BaseModel):\n",
        "  node : Literal['posted_tweet','deleted_tweet','updated_tweet'] = Field(description=\"based on the node you will answer from one of these 'posted_tweet','deleted_tweet','updated_tweet'\")\n",
        "\n",
        "TweetDeciderModel = Model.with_structured_output(TweetDecider)\n",
        "ChatDeciderModel = Model.with_structured_output(chat_decider)"
      ]
    },
    {
      "cell_type": "code",
      "execution_count": 110,
      "metadata": {
        "colab": {
          "base_uri": "https://localhost:8080/",
          "height": 35
        },
        "id": "zR0ZHtmIv6qj",
        "outputId": "1c266b1f-1bf2-4834-80fc-28a7c33bcf34"
      },
      "outputs": [
        {
          "data": {
            "application/vnd.google.colaboratory.intrinsic+json": {
              "type": "string"
            },
            "text/plain": [
              "'twitter_side'"
            ]
          },
          "execution_count": 110,
          "metadata": {},
          "output_type": "execute_result"
        }
      ],
      "source": [
        "ChatDeciderModel.invoke(\"write something trending on machine learning and post it\").call"
      ]
    },
    {
      "cell_type": "code",
      "execution_count": 111,
      "metadata": {
        "id": "37On1mOjlRFu"
      },
      "outputs": [],
      "source": [
        "from langgraph.graph import StateGraph,START,END\n",
        "graph = StateGraph(TweetState)"
      ]
    },
    {
      "cell_type": "code",
      "execution_count": 112,
      "metadata": {
        "id": "SP5QzSgZwZoM"
      },
      "outputs": [],
      "source": [
        "def decide_chat_router(state: TweetState):\n",
        "    topic = state['topic'][-1]\n",
        "    prompt = f\"\"\"\n",
        "    You are an expert AI assistant.\n",
        "    Decide whether this input relates to Twitter actions (post/update/delete) or is general chat.\n",
        "\n",
        "    Output only:\n",
        "    - \"twitter_side\"\n",
        "    - \"chat_side\"\n",
        "\n",
        "    User input: \"{topic}\"\n",
        "    \"\"\"\n",
        "    msg = [\n",
        "        SystemMessage(content=\"You are a helpful assistant.\"),\n",
        "        HumanMessage(content=prompt)\n",
        "    ]\n",
        "\n",
        "    try:\n",
        "        response = ChatDeciderModel.invoke(msg)\n",
        "        decider = getattr(response, \"call\", None)\n",
        "        if not decider and isinstance(response, dict):\n",
        "            decider = response.get(\"call\")\n",
        "\n",
        "        if decider in [\"chat_side\", \"twitter_side\"]:\n",
        "            state[\"call\"] = decider\n",
        "        else:\n",
        "            state[\"messages\"].append(AIMessage(content=f\"Unexpected decider output: {response}\"))\n",
        "            state[\"call\"] = \"chat_side\"\n",
        "    except Exception as e:\n",
        "        state[\"messages\"].append(AIMessage(content=f\"Error in decide_chat_router: {str(e)}\"))\n",
        "        state[\"call\"] = \"chat_side\"\n",
        "\n",
        "    return state\n"
      ]
    },
    {
      "cell_type": "code",
      "execution_count": 113,
      "metadata": {
        "id": "zJhceCm9_nub"
      },
      "outputs": [],
      "source": [
        "def Tweet_update_node(state: TweetState) -> TweetState:\n",
        "    \"\"\"\n",
        "    Revise and improve the generated tweet to make it more engaging.\n",
        "    Updates the state with the revised tweet.\n",
        "    \"\"\"\n",
        "    # Check if we have generated tweets\n",
        "    if not state.get('generated_tweet') or not state['generated_tweet']:\n",
        "        state['messages'].append(AIMessage(content=\"No generated tweet available to update.\"))\n",
        "        return state\n",
        "\n",
        "    # Check if we have topic\n",
        "    if not state.get('topic') or not state['topic']:\n",
        "        state['messages'].append(AIMessage(content=\"No topic available for context.\"))\n",
        "        return state\n",
        "\n",
        "    latest_tweet = state['generated_tweet'][-1]\n",
        "    topic = state['topic'][-1]\n",
        "\n",
        "    prompt = f\"\"\"\n",
        "    You are an expert social media AI assistant.\n",
        "    Your task is to revise and improve the following tweet based on the original topic.\n",
        "\n",
        "    Topic: `{topic}`\n",
        "    Original Tweet: `{latest_tweet}`\n",
        "\n",
        "    Requirements:\n",
        "    - Keep it under 280 characters.\n",
        "    - Make the revision more engaging and conversational.\n",
        "    - Improve clarity and impact.\n",
        "    - Maintain the original meaning.\n",
        "\n",
        "    Provide the revised tweet text only.\n",
        "    \"\"\"\n",
        "    sys_msg = \"You are a helpful assistant.\"\n",
        "    msg = [\n",
        "        SystemMessage(content=sys_msg),\n",
        "        HumanMessage(content=prompt)\n",
        "    ]\n",
        "    try:\n",
        "        update_tweet = Model.invoke(msg).content\n",
        "\n",
        "        if update_tweet:\n",
        "            state['generated_tweet'].append(update_tweet)\n",
        "            state['messages'].append(AIMessage(content=f\"Tweet updated successfully! New version: {update_tweet}\"))\n",
        "        else:\n",
        "            state['messages'].append(AIMessage(content=\"Failed to generate updated tweet.\"))\n",
        "\n",
        "    except Exception as e:\n",
        "        state['messages'].append(AIMessage(content=f\"Error updating tweet: {str(e)}\"))\n",
        "\n",
        "    return state"
      ]
    },
    {
      "cell_type": "code",
      "execution_count": 114,
      "metadata": {
        "id": "xEBKWzAvnUrz"
      },
      "outputs": [],
      "source": [
        "def Tweet_genration_node(state: TweetState) -> TweetState:\n",
        "    topic = state['topic'][-1]\n",
        "\n",
        "    system_msg = \"You are an expert social media AI assistant.\"\n",
        "    prompt = f\"\"\"\n",
        "    Generate a creative, engaging, and short tweet about the following topic:\n",
        "\n",
        "    Topic: '{topic}'\n",
        "\n",
        "    Requirements:\n",
        "    - Maximum 280 characters.\n",
        "    - Avoid hashtags unless very relevant.\n",
        "    - Keep it informative, friendly, and concise.\n",
        "    - Output only the tweet text. No extra commentary.\n",
        "    \"\"\"\n",
        "\n",
        "    msg = [\n",
        "        SystemMessage(content=system_msg),\n",
        "        HumanMessage(content=prompt)\n",
        "    ]\n",
        "\n",
        "    try:\n",
        "        tweet = Model.invoke(msg).content\n",
        "        if tweet:\n",
        "            state['genrated_tweet'].append(tweet)\n",
        "        else:\n",
        "            state['messages'].append(AIMessage(content=\"Failed to generate tweet.\"))\n",
        "    except Exception as e:\n",
        "        state['messages'].append(AIMessage(content=f\"Error generating tweet: {str(e)}\"))\n",
        "\n",
        "    return state\n"
      ]
    },
    {
      "cell_type": "code",
      "execution_count": 115,
      "metadata": {
        "id": "_-uA_m9KpTq3"
      },
      "outputs": [],
      "source": [
        "def decide_tweeter_position(state: TweetState):\n",
        "    topic = state['topic'][-1]\n",
        "    prompt = f\"\"\"\n",
        "      You are an expert social media AI assistant.\n",
        "      Your task is to decide which node should be called based on the user's query or topic.\n",
        "      The available nodes are:\n",
        "      - post_node\n",
        "      - delete_node\n",
        "      - update_node\n",
        "\n",
        "      User query/topic: `{topic}`\n",
        "\n",
        "      Instructions:\n",
        "      - Analyze the query carefully.\n",
        "      - Choose only one node that is most appropriate for the action the user wants to perform.\n",
        "      - Return the node name only, nothing else.\n",
        "\"\"\"\n",
        "    system_msg = \"You are a helpful assistant.\"\n",
        "    msg = [\n",
        "        SystemMessage(content=system_msg),\n",
        "        HumanMessage(content=prompt)]\n",
        "    result = TweetDeciderModel.invoke(msg).node\n",
        "    if result:\n",
        "      state['node_call'] = result\n",
        "      return state\n",
        "    else:\n",
        "      state['messages'].append(AIMessage(content=\"Failed to decide the next step.\"))\n",
        "      return state\n"
      ]
    },
    {
      "cell_type": "code",
      "execution_count": 116,
      "metadata": {
        "id": "76_P-0WUtYVC"
      },
      "outputs": [],
      "source": [
        "def genral_chat(state: TweetState) -> TweetState:\n",
        "    question = state['topic']\n",
        "    history = state['messages']\n",
        "    history.append(HumanMessage(content=question))\n",
        "    system_msg = \"You are a helpful assistant.\"\n",
        "    user_prompt = f\"You are helpful assistant based on user query: '{history}'. Provide a simple, unique, and to-the-point answer.\\n\\n and this is message history - {state['messages']}\"\n",
        "\n",
        "    msg = [\n",
        "        SystemMessage(content=system_msg),\n",
        "        HumanMessage(content=user_prompt)\n",
        "    ]\n",
        "\n",
        "    try:\n",
        "        answer = Model.invoke(msg).content\n",
        "        if answer:\n",
        "            state['messages'].append(AIMessage(content=answer))\n",
        "        else:\n",
        "            state['messages'].append(AIMessage(content=\"Failed to generate answer.\"))\n",
        "    except Exception as e:\n",
        "        state['messages'].append(AIMessage(content=f\"Error generating answer: {str(e)}\"))\n",
        "\n",
        "    return state\n"
      ]
    },
    {
      "cell_type": "code",
      "execution_count": 117,
      "metadata": {
        "id": "Yezdb3E82n-Z"
      },
      "outputs": [],
      "source": [
        "from tweepy import Client\n",
        "from langchain_core.messages import HumanMessage,AIMessage,SystemMessage\n",
        "import os\n",
        "\n",
        "def post_tweet_node(state: TweetState) -> TweetState:\n",
        "    \"\"\"\n",
        "    Post the last generated tweet from the state to Twitter.\n",
        "    Updates the state with the tweet ID and posted tweet info.\n",
        "    \"\"\"\n",
        "    client = Client(\n",
        "        bearer_token=twitter_bearer_token,\n",
        "        consumer_key=twitter_api_key,\n",
        "        consumer_secret=twitter_secret_key,\n",
        "        access_token=twitter_acess_token,\n",
        "        access_token_secret=twitter_acess_token_secret,\n",
        "    )\n",
        "    if not state['genrated_tweet']:\n",
        "        state['messages'].append(AIMessage(content=\"No generated tweet to post.\"))\n",
        "        return state\n",
        "    tweet_text = state['genrated_tweet'][-1]\n",
        "    try:\n",
        "        response = client.create_tweet(text=tweet_text)\n",
        "        tweet_id = response.data[\"id\"]\n",
        "        state['posted_tweet'][tweet_id] = tweet_text\n",
        "        state['messages'].append(AIMessage(content=f\"Tweet posted successfully! URL: https://twitter.com/user/status/{tweet_id}\"))\n",
        "    except Exception as e:\n",
        "        state['messages'].append(AIMessage(content=f\"Error posting tweet: {str(e)}\"))\n",
        "    return state"
      ]
    },
    {
      "cell_type": "code",
      "execution_count": 118,
      "metadata": {
        "id": "iUvXbPQ358xZ"
      },
      "outputs": [],
      "source": [
        "def delete_tweet_node(state: TweetState) -> TweetState:\n",
        "    \"\"\"\n",
        "    Deletes the last posted tweet from Twitter.\n",
        "    Updates the state with the deleted tweet info and appends messages.\n",
        "    \"\"\"\n",
        "\n",
        "    client = Client(\n",
        "        bearer_token=twitter_bearer_token,\n",
        "        consumer_key=twitter_api_key,\n",
        "        consumer_secret=twitter_secret_key,\n",
        "        access_token=twitter_acess_token,\n",
        "        access_token_secret=twitter_acess_token_secret,\n",
        "    )\n",
        "\n",
        "    if not state['posted_tweet']:\n",
        "        state['messages'].append(AIMessage(content=\"No posted tweet to delete.\"))\n",
        "        return state\n",
        "\n",
        "    tweet_id = list(state['posted_tweet'].keys())[-1]\n",
        "\n",
        "    try:\n",
        "        response = client.delete_tweet(id=tweet_id)\n",
        "        if response.data.get(\"deleted\", False):\n",
        "            del state['posted_tweet'][tweet_id]\n",
        "            state['deleted_tweet'].append(tweet_id)\n",
        "            state['messages'].append(\n",
        "                AIMessage(content=f\"Tweet deleted successfully! URL: https://twitter.com/user/status/{tweet_id}\")\n",
        "            )\n",
        "        else:\n",
        "            state['messages'].append(AIMessage(content=f\"Failed to delete tweet {tweet_id}\"))\n",
        "    except Exception as e:\n",
        "        state['messages'].append(AIMessage(content=f\"Error deleting tweet: {str(e)}\"))\n",
        "    return state\n"
      ]
    },
    {
      "cell_type": "code",
      "execution_count": 119,
      "metadata": {
        "id": "m9eqJFCO-9yP"
      },
      "outputs": [],
      "source": [
        "def update_tweet_node(state: TweetState):\n",
        "    \"\"\"\n",
        "    Simulates updating a tweet: shows old tweet, deletes it, posts new text.\n",
        "    \"\"\"\n",
        "    client = Client(\n",
        "        bearer_token=twitter_bearer_token,\n",
        "        consumer_key=twitter_api_key,\n",
        "        consumer_secret=twitter_secret_key,\n",
        "        access_token=twitter_acess_token,\n",
        "        access_token_secret=twitter_acess_token_secret,\n",
        "    )\n",
        "\n",
        "    if not state['posted_tweet']:\n",
        "        state['messages'].append(AIMessage(content=\"No posted tweet to update.\"))\n",
        "        return state\n",
        "\n",
        "    tweet_id = list(state['posted_tweet'].keys())[-1]\n",
        "    new_text = state['genrated_tweet'][-1]\n",
        "\n",
        "    try:\n",
        "        old_tweet = client.get_tweet(id=tweet_id)\n",
        "        old_text = old_tweet.data.get(\"text\")\n",
        "\n",
        "        delete_resp = client.delete_tweet(id=tweet_id)\n",
        "        if not delete_resp.data or not delete_resp.data.get(\"deleted\", False):\n",
        "            state['messages'].append(AIMessage(content=f\"Failed to delete old tweet {tweet_id}\"))\n",
        "            return state\n",
        "        state['messages'].append(AIMessage(content=f\"Old tweet: {old_text}\"))\n",
        "        state['posted_tweet'].pop(tweet_id)\n",
        "        new_resp = client.create_tweet(text=new_text)\n",
        "        new_id = new_resp.data[\"id\"]\n",
        "        state['posted_tweet'][new_id] = new_text\n",
        "        state['messages'].append(AIMessage(content=f\"Tweet updated successfully! New tweet ID: {new_id}\"))\n",
        "    except Exception as e:\n",
        "        state['messages'].append(AIMessage(content=f\"Error updating tweet: {str(e)}\"))\n",
        "    return state"
      ]
    },
    {
      "cell_type": "code",
      "execution_count": 120,
      "metadata": {
        "id": "Zbwq4SlWwmeR"
      },
      "outputs": [],
      "source": [
        "def check_side(state:TweetState):\n",
        "  if state['call'] == 'chat_side':\n",
        "    return 'genral_chat'\n",
        "  elif state['call'] == 'twitter_side':\n",
        "    return 'twitter_side'"
      ]
    },
    {
      "cell_type": "code",
      "execution_count": 121,
      "metadata": {
        "id": "Tcwd7OOKxSad"
      },
      "outputs": [],
      "source": [
        "def twitter_node_router(state: TweetState):\n",
        "    node = state['node_call']\n",
        "    if node == 'posted_tweet':\n",
        "        return 'posted_tweet'\n",
        "    elif node == 'deleted_tweet':\n",
        "        return 'deleted_tweet'\n",
        "    elif node == 'updated_tweet':\n",
        "        return 'updated_tweet'\n",
        "    else:\n",
        "        return \"failed to decide node\""
      ]
    },
    {
      "cell_type": "code",
      "execution_count": 122,
      "metadata": {
        "id": "S6nmiRCbD83B"
      },
      "outputs": [],
      "source": [
        "from langgraph.checkpoint.memory import MemorySaver\n",
        "checkpointer = MemorySaver()\n"
      ]
    },
    {
      "cell_type": "code",
      "execution_count": 123,
      "metadata": {
        "id": "NsJfPvFOHL4r"
      },
      "outputs": [],
      "source": [
        "#lets make node\n",
        "graph.add_node(\"Tweet_genration_node\",Tweet_genration_node)\n",
        "graph.add_node(\"decide_tweeter_position\",decide_tweeter_position)\n",
        "graph.add_node(\"genral_chat\",genral_chat)\n",
        "graph.add_node(\"post_tweet_node\",post_tweet_node)\n",
        "graph.add_node(\"delete_tweet_node\",delete_tweet_node)\n",
        "graph.add_node(\"update_tweet_node\",update_tweet_node)\n",
        "graph.add_node(\"decide_chat_router\",decide_chat_router)\n",
        "\n",
        "#lets make edges\n",
        "graph.add_edge(START, \"decide_chat_router\")\n",
        "graph.add_conditional_edges('decide_chat_router',check_side,\n",
        "                            {\n",
        "                                'genral_chat':'genral_chat',\n",
        "                                'twitter_side':'decide_tweeter_position'\n",
        "                            })\n",
        "graph.add_edge('genral_chat',END)\n",
        "graph.add_conditional_edges('decide_tweeter_position',twitter_node_router,\n",
        "                            {\n",
        "                                'posted_tweet':'Tweet_genration_node',\n",
        "                                'deleted_tweet':'delete_tweet_node',\n",
        "                                'updated_tweet':'update_tweet_node'\n",
        "                            })\n",
        "graph.add_edge('Tweet_genration_node','post_tweet_node')\n",
        "graph.add_edge('post_tweet_node',END)\n",
        "graph.add_edge('post_tweet_node',END)\n",
        "graph.add_edge('delete_tweet_node',END)\n",
        "graph.add_edge('update_tweet_node',END)\n",
        "\n",
        "workflow = graph.compile(checkpointer=checkpointer)\n"
      ]
    },
    {
      "cell_type": "code",
      "execution_count": 124,
      "metadata": {
        "colab": {
          "base_uri": "https://localhost:8080/",
          "height": 593
        },
        "id": "5PADyiZ4yprd",
        "outputId": "bea52c1c-86d2-4f46-f431-191e0c76c1f5"
      },
      "outputs": [
        {
          "data": {
            "image/png": "[encoded data removed]",
            "text/plain": [
              "<IPython.core.display.Image object>"
            ]
          },
          "metadata": {},
          "output_type": "display_data"
        }
      ],
      "source": [
        "from IPython.display import Image,display\n",
        "\n",
        "try:\n",
        "  display(Image(workflow.get_graph().draw_mermaid_png()))\n",
        "except Exception as e:\n",
        "  print(e)"
      ]
    },
    {
      "cell_type": "code",
      "execution_count": 125,
      "metadata": {
        "id": "Z5NLlYGJ0E02"
      },
      "outputs": [],
      "source": [
        "configurable = {\n",
        "    'configurable' : {'thread_id':\"1011111\"}\n",
        "}"
      ]
    },
    {
      "cell_type": "code",
      "execution_count": 129,
      "metadata": {
        "colab": {
          "base_uri": "https://localhost:8080/"
        },
        "id": "xrKyI8VY2fvF",
        "outputId": "374ecca9-a2bb-4caa-b4ac-060fb07e34f4"
      },
      "outputs": [
        {
          "name": "stdout",
          "output_type": "stream",
          "text": [
            "Ask me anything: hello what is my name?\n",
            "Your name is Waris.\n",
            "Ask me anything: what postes i made earlier?\n",
            "Tweet posted successfully! URL: https://twitter.com/user/status/1978556297717903658\n",
            "Ask me anything: delete the last post \n",
            "Tweet deleted successfully! URL: https://twitter.com/user/status/1978556297717903658\n",
            "Ask me anything: till now the post is not deleted ,delet it\n",
            "No posted tweet to delete.\n",
            "Ask me anything: write something on fishing\n",
            "\"The quiet patience of fishing, the thrill of the catch, and the serenity of the water. There's nothing quite like it. 🎣\"\n",
            "Ask me anything: what are the best way to do practise the soccer\n",
            "To practice soccer effectively, focus on these key areas:\n",
            "\n",
            "1.  **Ball Control & Dribbling:** Practice dribbling with both feet, changing pace and direction. Use cones for drills.\n",
            "2.  **Passing & Receiving:** Work on short and long passes with accuracy, using different parts of your foot. Practice receiving passes cleanly.\n",
            "3.  **Shooting:** Develop power and accuracy by shooting from various distances and angles.\n",
            "4.  **Fitness:** Incorporate cardio (running, sprints), agility drills, and strength training.\n",
            "5.  **Tactical Understanding:** Play in games to learn positioning, teamwork, and decision-making.\n",
            "6.  **Juggling:** Improves touch and coordination.\n",
            "Ask me anything: ok leave and write something on hiking and post on twetter\n",
            "Tweet posted successfully! URL: https://twitter.com/user/status/1978556929195586039\n",
            "Ask me anything: exit\n"
          ]
        }
      ],
      "source": [
        "initial_state = {\n",
        "    \"topic\": [],\n",
        "    \"genrated_tweet\": [],\n",
        "    \"posted_tweet\": {},\n",
        "    \"deleted_tweet\": [],\n",
        "    \"updated_tweet\": {},\n",
        "    \"tweet_id\": [],\n",
        "    \"node_call\": None,\n",
        "    \"messages\": []\n",
        "}\n",
        "\n",
        "while True:\n",
        "    question = input(\"Ask me anything: \")\n",
        "    if question.lower() == \"exit\":\n",
        "        break\n",
        "    initial_state[\"topic\"].append(question)\n",
        "    result = workflow.invoke(initial_state, config=configurable)\n",
        "    last_msg = result[\"messages\"][-1]\n",
        "    if isinstance(last_msg, AIMessage):\n",
        "        print(last_msg.content)"
      ]
    },
    {
      "cell_type": "code",
      "execution_count": 126,
      "metadata": {
        "id": "pWRMtzgpWwnD"
      },
      "outputs": [],
      "source": []
    }
  ],
  "metadata": {
    "accelerator": "GPU",
    "colab": {
      "gpuType": "T4",
      "provenance": []
    },
    "kernelspec": {
      "display_name": "Python 3",
      "name": "python3"
    },
    "language_info": {
      "name": "python"
    }
  },
  "nbformat": 4,
  "nbformat_minor": 0
}
